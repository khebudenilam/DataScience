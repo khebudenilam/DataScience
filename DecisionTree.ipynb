{
 "cells": [
  {
   "cell_type": "code",
   "execution_count": 2,
   "metadata": {},
   "outputs": [],
   "source": [
    "import pandas as pd\n",
    "import seaborn as sb\n",
    "import matplotlib.pyplot as plt"
   ]
  },
  {
   "cell_type": "code",
   "execution_count": 4,
   "metadata": {},
   "outputs": [],
   "source": [
    "A=pd.read_csv(\"E:/Python/Dataset/Cars93.csv\")"
   ]
  },
  {
   "cell_type": "code",
   "execution_count": 5,
   "metadata": {
    "collapsed": true
   },
   "outputs": [
    {
     "data": {
      "text/html": [
       "<div>\n",
       "<style scoped>\n",
       "    .dataframe tbody tr th:only-of-type {\n",
       "        vertical-align: middle;\n",
       "    }\n",
       "\n",
       "    .dataframe tbody tr th {\n",
       "        vertical-align: top;\n",
       "    }\n",
       "\n",
       "    .dataframe thead th {\n",
       "        text-align: right;\n",
       "    }\n",
       "</style>\n",
       "<table border=\"1\" class=\"dataframe\">\n",
       "  <thead>\n",
       "    <tr style=\"text-align: right;\">\n",
       "      <th></th>\n",
       "      <th>Unnamed: 0</th>\n",
       "      <th>Manufacturer</th>\n",
       "      <th>Model</th>\n",
       "      <th>Type</th>\n",
       "      <th>Min.Price</th>\n",
       "      <th>Price</th>\n",
       "      <th>Max.Price</th>\n",
       "      <th>MPG.city</th>\n",
       "      <th>MPG.highway</th>\n",
       "      <th>AirBags</th>\n",
       "      <th>...</th>\n",
       "      <th>Passengers</th>\n",
       "      <th>Length</th>\n",
       "      <th>Wheelbase</th>\n",
       "      <th>Width</th>\n",
       "      <th>Turn.circle</th>\n",
       "      <th>Rear.seat.room</th>\n",
       "      <th>Luggage.room</th>\n",
       "      <th>Weight</th>\n",
       "      <th>Origin</th>\n",
       "      <th>Make</th>\n",
       "    </tr>\n",
       "  </thead>\n",
       "  <tbody>\n",
       "    <tr>\n",
       "      <th>0</th>\n",
       "      <td>1</td>\n",
       "      <td>Acura</td>\n",
       "      <td>Integra</td>\n",
       "      <td>Small</td>\n",
       "      <td>12.9</td>\n",
       "      <td>15.9</td>\n",
       "      <td>18.8</td>\n",
       "      <td>25</td>\n",
       "      <td>31</td>\n",
       "      <td>None</td>\n",
       "      <td>...</td>\n",
       "      <td>5</td>\n",
       "      <td>177</td>\n",
       "      <td>102</td>\n",
       "      <td>68</td>\n",
       "      <td>37</td>\n",
       "      <td>26.5</td>\n",
       "      <td>11.0</td>\n",
       "      <td>2705</td>\n",
       "      <td>non-USA</td>\n",
       "      <td>Acura Integra</td>\n",
       "    </tr>\n",
       "    <tr>\n",
       "      <th>1</th>\n",
       "      <td>2</td>\n",
       "      <td>Acura</td>\n",
       "      <td>Legend</td>\n",
       "      <td>Midsize</td>\n",
       "      <td>29.2</td>\n",
       "      <td>33.9</td>\n",
       "      <td>38.7</td>\n",
       "      <td>18</td>\n",
       "      <td>25</td>\n",
       "      <td>Front</td>\n",
       "      <td>...</td>\n",
       "      <td>195</td>\n",
       "      <td>115</td>\n",
       "      <td>71</td>\n",
       "      <td>38</td>\n",
       "      <td>30</td>\n",
       "      <td>15.0</td>\n",
       "      <td>3560.0</td>\n",
       "      <td>3956</td>\n",
       "      <td>Acura Legend</td>\n",
       "      <td>Chevrolet</td>\n",
       "    </tr>\n",
       "    <tr>\n",
       "      <th>2</th>\n",
       "      <td>3</td>\n",
       "      <td>Audi</td>\n",
       "      <td>90</td>\n",
       "      <td>Compact</td>\n",
       "      <td>25.9</td>\n",
       "      <td>29.1</td>\n",
       "      <td>32.3</td>\n",
       "      <td>20</td>\n",
       "      <td>26</td>\n",
       "      <td>Front</td>\n",
       "      <td>...</td>\n",
       "      <td>180</td>\n",
       "      <td>102</td>\n",
       "      <td>67</td>\n",
       "      <td>37</td>\n",
       "      <td>28</td>\n",
       "      <td>14.0</td>\n",
       "      <td>3375.0</td>\n",
       "      <td>2552</td>\n",
       "      <td>Audi 90</td>\n",
       "      <td>Acura</td>\n",
       "    </tr>\n",
       "    <tr>\n",
       "      <th>3</th>\n",
       "      <td>4</td>\n",
       "      <td>Audi</td>\n",
       "      <td>100</td>\n",
       "      <td>Midsize</td>\n",
       "      <td>30.8</td>\n",
       "      <td>37.7</td>\n",
       "      <td>44.6</td>\n",
       "      <td>19</td>\n",
       "      <td>26</td>\n",
       "      <td>Driver &amp; Passenger</td>\n",
       "      <td>...</td>\n",
       "      <td>6</td>\n",
       "      <td>193</td>\n",
       "      <td>106</td>\n",
       "      <td>70</td>\n",
       "      <td>37</td>\n",
       "      <td>31.0</td>\n",
       "      <td>17.0</td>\n",
       "      <td>3405</td>\n",
       "      <td>Audi 100</td>\n",
       "      <td>Acura</td>\n",
       "    </tr>\n",
       "    <tr>\n",
       "      <th>4</th>\n",
       "      <td>5</td>\n",
       "      <td>BMW</td>\n",
       "      <td>535i</td>\n",
       "      <td>Midsize</td>\n",
       "      <td>23.7</td>\n",
       "      <td>30.0</td>\n",
       "      <td>36.2</td>\n",
       "      <td>22</td>\n",
       "      <td>30</td>\n",
       "      <td>Driver only</td>\n",
       "      <td>...</td>\n",
       "      <td>4</td>\n",
       "      <td>186</td>\n",
       "      <td>109</td>\n",
       "      <td>69</td>\n",
       "      <td>39</td>\n",
       "      <td>27.0</td>\n",
       "      <td>13.0</td>\n",
       "      <td>3640</td>\n",
       "      <td>BMW 535i</td>\n",
       "      <td>Chevrolet</td>\n",
       "    </tr>\n",
       "  </tbody>\n",
       "</table>\n",
       "<p>5 rows × 28 columns</p>\n",
       "</div>"
      ],
      "text/plain": [
       "   Unnamed: 0 Manufacturer    Model     Type  Min.Price  Price  Max.Price  \\\n",
       "0           1        Acura  Integra    Small       12.9   15.9       18.8   \n",
       "1           2        Acura   Legend  Midsize       29.2   33.9       38.7   \n",
       "2           3         Audi       90  Compact       25.9   29.1       32.3   \n",
       "3           4         Audi      100  Midsize       30.8   37.7       44.6   \n",
       "4           5          BMW     535i  Midsize       23.7   30.0       36.2   \n",
       "\n",
       "   MPG.city  MPG.highway             AirBags  ... Passengers Length  \\\n",
       "0        25           31                None  ...          5    177   \n",
       "1        18           25               Front  ...        195    115   \n",
       "2        20           26               Front  ...        180    102   \n",
       "3        19           26  Driver & Passenger  ...          6    193   \n",
       "4        22           30         Driver only  ...          4    186   \n",
       "\n",
       "   Wheelbase  Width  Turn.circle Rear.seat.room Luggage.room  Weight  \\\n",
       "0        102     68           37           26.5         11.0    2705   \n",
       "1         71     38           30           15.0       3560.0    3956   \n",
       "2         67     37           28           14.0       3375.0    2552   \n",
       "3        106     70           37           31.0         17.0    3405   \n",
       "4        109     69           39           27.0         13.0    3640   \n",
       "\n",
       "         Origin           Make  \n",
       "0       non-USA  Acura Integra  \n",
       "1  Acura Legend      Chevrolet  \n",
       "2       Audi 90         Acura   \n",
       "3      Audi 100         Acura   \n",
       "4      BMW 535i      Chevrolet  \n",
       "\n",
       "[5 rows x 28 columns]"
      ]
     },
     "execution_count": 5,
     "metadata": {},
     "output_type": "execute_result"
    }
   ],
   "source": [
    "A.head()"
   ]
  },
  {
   "cell_type": "code",
   "execution_count": 7,
   "metadata": {},
   "outputs": [
    {
     "data": {
      "text/plain": [
       "Index(['Unnamed: 0', 'Manufacturer', 'Model', 'Type', 'Min.Price', 'Price',\n",
       "       'Max.Price', 'MPG.city', 'MPG.highway', 'AirBags', 'DriveTrain',\n",
       "       'Cylinders', 'EngineSize', 'Horsepower', 'RPM', 'Rev.per.mile',\n",
       "       'Man.trans.avail', 'Fuel.tank.capacity', 'Passengers', 'Length',\n",
       "       'Wheelbase', 'Width', 'Turn.circle', 'Rear.seat.room', 'Luggage.room',\n",
       "       'Weight', 'Origin', 'Make'],\n",
       "      dtype='object')"
      ]
     },
     "execution_count": 7,
     "metadata": {},
     "output_type": "execute_result"
    }
   ],
   "source": [
    "A.columns"
   ]
  },
  {
   "cell_type": "code",
   "execution_count": 8,
   "metadata": {},
   "outputs": [
    {
     "data": {
      "text/plain": [
       "array(['None', 'Front', 'Driver & Passenger', 'Driver only'], dtype=object)"
      ]
     },
     "execution_count": 8,
     "metadata": {},
     "output_type": "execute_result"
    }
   ],
   "source": [
    "A.AirBags.unique()"
   ]
  },
  {
   "cell_type": "code",
   "execution_count": 9,
   "metadata": {},
   "outputs": [],
   "source": [
    "A=A[A.AirBags.isna()==False]"
   ]
  },
  {
   "cell_type": "code",
   "execution_count": 19,
   "metadata": {},
   "outputs": [],
   "source": [
    "Y=A[[\"AirBags\"]]\n",
    "X=A.drop(labels=[\"Unnamed: 0\",\"AirBags\",\"Make\",\"Model\"],axis=1)\n",
    "         \n",
    "        "
   ]
  },
  {
   "cell_type": "code",
   "execution_count": 23,
   "metadata": {},
   "outputs": [],
   "source": [
    "from sklearn.preprocessing import LabelEncoder\n",
    "le = LabelEncoder()\n",
    "X=X.apply(le.fit_transform)"
   ]
  },
  {
   "cell_type": "code",
   "execution_count": 34,
   "metadata": {},
   "outputs": [],
   "source": [
    "from sklearn.model_selection import train_test_split\n",
    "xtrain,xtest,ytrain,ytest=train_test_split(X,Y,test_size=0.2,random_state=30)"
   ]
  },
  {
   "cell_type": "code",
   "execution_count": 35,
   "metadata": {},
   "outputs": [],
   "source": [
    "from sklearn.tree import DecisionTreeClassifier"
   ]
  },
  {
   "cell_type": "code",
   "execution_count": 38,
   "metadata": {},
   "outputs": [
    {
     "name": "stdout",
     "output_type": "stream",
     "text": [
      "Accuracy score %.3f 0.42105263157894735\n"
     ]
    }
   ],
   "source": [
    "dtc=DecisionTreeClassifier(random_state=50)\n",
    "model=dtc.fit(xtrain,ytrain)\n",
    "pred=model.predict(xtest)\n",
    "from sklearn.metrics import accuracy_score\n",
    "print(\"Accuracy score %.3f\",accuracy_score(ytest,pred))"
   ]
  },
  {
   "cell_type": "code",
   "execution_count": 39,
   "metadata": {},
   "outputs": [],
   "source": [
    "##Prunning\n"
   ]
  },
  {
   "cell_type": "code",
   "execution_count": 45,
   "metadata": {},
   "outputs": [
    {
     "name": "stderr",
     "output_type": "stream",
     "text": [
      "C:\\Users\\user\\Anaconda3\\lib\\site-packages\\sklearn\\model_selection\\_split.py:605: Warning: The least populated class in y has only 1 members, which is too few. The minimum number of members in any class cannot be less than n_splits=4.\n",
      "  % (min_groups, self.n_splits)), Warning)\n"
     ]
    },
    {
     "name": "stdout",
     "output_type": "stream",
     "text": [
      "Accuracy: 0.474\n"
     ]
    }
   ],
   "source": [
    "tp={\"max_depth\":range(2,20,1)}\n",
    "dtc= DecisionTreeClassifier(random_state=30)\n",
    "from sklearn.model_selection import GridSearchCV\n",
    "cv=GridSearchCV(dtc,tp,scoring=\"accuracy\",cv=4)\n",
    "cvmodel=cv.fit(xtrain,ytrain)\n",
    "md=cvmodel.best_params_['max_depth']\n",
    "\n",
    "dtc = DecisionTreeClassifier(random_state=30,max_depth=md)\n",
    "model = dtc.fit(xtrain,ytrain)\n",
    "pred = model.predict(xtest)\n",
    "from sklearn.metrics import accuracy_score\n",
    "print(\"Accuracy: %.3f\"%accuracy_score(ytest,pred))"
   ]
  },
  {
   "cell_type": "code",
   "execution_count": 48,
   "metadata": {},
   "outputs": [
    {
     "name": "stdout",
     "output_type": "stream",
     "text": [
      "2 Accuracy: 0.47368\n",
      "3 Accuracy: 0.52632\n",
      "4 Accuracy: 0.42105\n",
      "5 Accuracy: 0.47368\n",
      "6 Accuracy: 0.42105\n",
      "7 Accuracy: 0.42105\n",
      "8 Accuracy: 0.42105\n",
      "9 Accuracy: 0.42105\n",
      "10 Accuracy: 0.42105\n",
      "11 Accuracy: 0.42105\n",
      "12 Accuracy: 0.42105\n",
      "13 Accuracy: 0.42105\n",
      "14 Accuracy: 0.42105\n",
      "15 Accuracy: 0.42105\n",
      "16 Accuracy: 0.42105\n",
      "17 Accuracy: 0.42105\n",
      "18 Accuracy: 0.42105\n",
      "19 Accuracy: 0.42105\n",
      "20 Accuracy: 0.42105\n",
      "21 Accuracy: 0.42105\n",
      "22 Accuracy: 0.42105\n",
      "23 Accuracy: 0.42105\n",
      "24 Accuracy: 0.42105\n",
      "25 Accuracy: 0.42105\n",
      "26 Accuracy: 0.42105\n",
      "27 Accuracy: 0.42105\n",
      "28 Accuracy: 0.42105\n",
      "29 Accuracy: 0.42105\n"
     ]
    }
   ],
   "source": [
    "for i in range(2,30,1):\n",
    "    dtc = DecisionTreeClassifier(random_state=50,max_depth=i)\n",
    "    model = dtc.fit(xtrain,ytrain)\n",
    "    pred = model.predict(xtest)\n",
    "    from sklearn.metrics import accuracy_score\n",
    "    print(i,\"Accuracy: %.5f\"%accuracy_score(ytest,pred))"
   ]
  },
  {
   "cell_type": "code",
   "execution_count": 50,
   "metadata": {},
   "outputs": [
    {
     "name": "stdout",
     "output_type": "stream",
     "text": [
      "2 Accuracy: 0.31579\n",
      "3 Accuracy: 0.42105\n",
      "4 Accuracy: 0.47368\n",
      "5 Accuracy: 0.47368\n",
      "6 Accuracy: 0.42105\n",
      "7 Accuracy: 0.42105\n",
      "8 Accuracy: 0.36842\n",
      "9 Accuracy: 0.36842\n",
      "10 Accuracy: 0.57895\n",
      "11 Accuracy: 0.57895\n",
      "12 Accuracy: 0.57895\n",
      "13 Accuracy: 0.57895\n",
      "14 Accuracy: 0.42105\n",
      "15 Accuracy: 0.42105\n",
      "16 Accuracy: 0.47368\n",
      "17 Accuracy: 0.47368\n",
      "18 Accuracy: 0.47368\n",
      "19 Accuracy: 0.47368\n",
      "20 Accuracy: 0.47368\n",
      "21 Accuracy: 0.47368\n",
      "22 Accuracy: 0.47368\n",
      "23 Accuracy: 0.57895\n",
      "24 Accuracy: 0.63158\n",
      "25 Accuracy: 0.63158\n",
      "26 Accuracy: 0.63158\n",
      "27 Accuracy: 0.63158\n",
      "28 Accuracy: 0.63158\n",
      "29 Accuracy: 0.63158\n"
     ]
    }
   ],
   "source": [
    "for i in range(2,30,1):\n",
    "    dtc = DecisionTreeClassifier(random_state=50,min_samples_leaf=i)\n",
    "    model = dtc.fit(xtrain,ytrain)\n",
    "    pred = model.predict(xtest)\n",
    "    from sklearn.metrics import accuracy_score\n",
    "    print(i,\"Accuracy: %.5f\"%accuracy_score(ytest,pred))"
   ]
  },
  {
   "cell_type": "code",
   "execution_count": 51,
   "metadata": {},
   "outputs": [],
   "source": [
    "from sklearn.tree import export_graphviz"
   ]
  },
  {
   "cell_type": "code",
   "execution_count": 53,
   "metadata": {},
   "outputs": [],
   "source": [
    "export_graphviz(dtc,out_file=\"c:/Users/User/Desktop/dummy_work/t2.out\")"
   ]
  },
  {
   "cell_type": "code",
   "execution_count": null,
   "metadata": {},
   "outputs": [],
   "source": []
  }
 ],
 "metadata": {
  "kernelspec": {
   "display_name": "Python 3",
   "language": "python",
   "name": "python3"
  },
  "language_info": {
   "codemirror_mode": {
    "name": "ipython",
    "version": 3
   },
   "file_extension": ".py",
   "mimetype": "text/x-python",
   "name": "python",
   "nbconvert_exporter": "python",
   "pygments_lexer": "ipython3",
   "version": "3.6.4"
  }
 },
 "nbformat": 4,
 "nbformat_minor": 2
}
